{
 "cells": [
  {
   "cell_type": "code",
   "execution_count": 1,
   "metadata": {},
   "outputs": [
    {
     "name": "stdout",
     "output_type": "stream",
     "text": [
      "30\n",
      "3.14\n",
      "50\n",
      "ini variable milik Triana\n",
      "ini variable milik Triana adalah 50\n"
     ]
    }
   ],
   "source": [
    "#Nama Triana Asih Wulandari\n",
    "\n",
    "Var=30        #variable:Var\n",
    "phi=3.14      #variable:phi\n",
    "Var2=50       #variable:Var2\n",
    "Variable_saya = \"ini variable milik Triana\" #variable:Variable_saya\n",
    "\n",
    "print (Var)\n",
    "print (phi)\n",
    "print (Var2)\n",
    "print (Variable_saya)\n",
    "print (Variable_saya,\"adalah\",Var2)"
   ]
  },
  {
   "cell_type": "code",
   "execution_count": 3,
   "metadata": {},
   "outputs": [
    {
     "name": "stdout",
     "output_type": "stream",
     "text": [
      "Triana\n",
      " \n",
      "        Jl. Setia Negara, Rt 02, Rw 12,\n",
      "        Desa Sidakaton, Kecamatan Dukuhturi, Kab.Tegal\n",
      "\n",
      "mendengarkan musik\n"
     ]
    }
   ],
   "source": [
    "#Nama Triana Asih Wulandari\n",
    "\n",
    "nama = \"Triana\"\n",
    "alamat = \"\"\" \n",
    "        Jl. Setia Negara, Rt 02, Rw 12,\n",
    "        Desa Sidakaton, Kecamatan Dukuhturi, Kab.Tegal\n",
    "\"\"\"\n",
    "hobi = 'mendengarkan musik'\n",
    "print (nama)\n",
    "print (alamat)\n",
    "print (hobi)"
   ]
  },
  {
   "cell_type": "code",
   "execution_count": 4,
   "metadata": {},
   "outputs": [
    {
     "name": "stdout",
     "output_type": "stream",
     "text": [
      "True\n"
     ]
    }
   ],
   "source": [
    "#Nama Triana Asih Wulandari\n",
    "\n",
    "Perbandingan = 12 > 10\n",
    "print(Perbandingan)"
   ]
  },
  {
   "cell_type": "code",
   "execution_count": 3,
   "metadata": {},
   "outputs": [
    {
     "name": "stdout",
     "output_type": "stream",
     "text": [
      "Halo mas Data !\n"
     ]
    }
   ],
   "source": [
    "#Nama Triana Asih Wulandari\n",
    "\n",
    "a = 'Halo'\n",
    "b = ' mas '\n",
    "c = 'Data !'\n",
    "d = a + b + c\n",
    "print (d)"
   ]
  },
  {
   "cell_type": "code",
   "execution_count": 3,
   "metadata": {},
   "outputs": [
    {
     "name": "stdout",
     "output_type": "stream",
     "text": [
      "30\n",
      "3.14\n",
      "50\n",
      "ini variable milik Triana\n",
      "ini variable milik Triana adalah 50\n"
     ]
    },
    {
     "ename": "NameError",
     "evalue": "name 'Var' is not defined",
     "output_type": "error",
     "traceback": [
      "\u001b[1;31m---------------------------------------------------------------------------\u001b[0m",
      "\u001b[1;31mNameError\u001b[0m                                 Traceback (most recent call last)",
      "\u001b[1;32m<ipython-input-3-95c297f22b79>\u001b[0m in \u001b[0;36m<module>\u001b[1;34m\u001b[0m\n\u001b[0;32m     11\u001b[0m \u001b[1;33m\u001b[0m\u001b[0m\n\u001b[0;32m     12\u001b[0m \u001b[1;32mdel\u001b[0m\u001b[1;33m(\u001b[0m\u001b[0mVar\u001b[0m\u001b[1;33m)\u001b[0m\u001b[1;33m\u001b[0m\u001b[1;33m\u001b[0m\u001b[0m\n\u001b[1;32m---> 13\u001b[1;33m \u001b[0mprint\u001b[0m\u001b[1;33m(\u001b[0m\u001b[0mVar\u001b[0m\u001b[1;33m)\u001b[0m\u001b[1;33m\u001b[0m\u001b[1;33m\u001b[0m\u001b[0m\n\u001b[0m",
      "\u001b[1;31mNameError\u001b[0m: name 'Var' is not defined"
     ]
    }
   ],
   "source": [
    "#Nama Triana Asih Wulandari\n",
    "\n",
    "Var=30\n",
    "phi=3.14\n",
    "Var2=50\n",
    "Variable_saya = \"ini variable milik Triana\"\n",
    "\n",
    "print (Var)\n",
    "print (phi)\n",
    "print (Var2)\n",
    "print (Variable_saya)\n",
    "print (Variable_saya,\"adalah\",Var2)\n",
    "\n",
    "del(Var)\n",
    "print(Var)"
   ]
  },
  {
   "cell_type": "code",
   "execution_count": null,
   "metadata": {},
   "outputs": [],
   "source": []
  }
 ],
 "metadata": {
  "kernelspec": {
   "display_name": "Python 3",
   "language": "python",
   "name": "python3"
  },
  "language_info": {
   "codemirror_mode": {
    "name": "ipython",
    "version": 3
   },
   "file_extension": ".py",
   "mimetype": "text/x-python",
   "name": "python",
   "nbconvert_exporter": "python",
   "pygments_lexer": "ipython3",
   "version": "3.8.3"
  }
 },
 "nbformat": 4,
 "nbformat_minor": 4
}
