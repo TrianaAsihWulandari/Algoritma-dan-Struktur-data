{
 "cells": [
  {
   "cell_type": "code",
   "execution_count": 2,
   "metadata": {},
   "outputs": [
    {
     "name": "stdout",
     "output_type": "stream",
     "text": [
      "Because I proud to make something new\n",
      "I like programming\n"
     ]
    }
   ],
   "source": [
    "#Triana Asih Wulandari\n",
    "# Membuat fungsi\n",
    "def perintah() :\n",
    "    print (\"Because I proud to make something new\")\n",
    "    print (\"I like programming\")\n",
    "##pemanggil fungsi\n",
    "perintah()"
   ]
  },
  {
   "cell_type": "code",
   "execution_count": 3,
   "metadata": {},
   "outputs": [
    {
     "name": "stdout",
     "output_type": "stream",
     "text": [
      "siapa nama andaTriana Asih Wulandari\n",
      "nama saya adalah  Triana Asih Wulandari\n",
      "luas persegi = 10\n",
      "luas persegi = 5000\n"
     ]
    }
   ],
   "source": [
    "#Triana Asih Wulandari\n",
    "# Membuat fungsi yang datanya dari keyboard --> fungsi non parameter\n",
    "def perkenalan():\n",
    "    nama = input(\"siapa nama anda\")\n",
    "    print (\"nama saya adalah \", nama)\n",
    "    \n",
    "#fungsi 2 parameter\n",
    "def luas_pp(panjang, lebar):\n",
    "    luas = panjang*lebar\n",
    "    print (\"luas persegi =\", luas)\n",
    "    \n",
    "#pemanggil fungsi\n",
    "perkenalan()\n",
    "luas_pp(5, 2)\n",
    "luas_pp(100, 50)\n",
    "\n"
   ]
  },
  {
   "cell_type": "code",
   "execution_count": 1,
   "metadata": {},
   "outputs": [
    {
     "name": "stdout",
     "output_type": "stream",
     "text": [
      "panjang = 5\n",
      "lebar = 5\n",
      "tinggi = 5\n",
      "Luas persegi panjang 25\n",
      "Volume balok 125\n"
     ]
    }
   ],
   "source": [
    "#Triana Asih Wulandari\n",
    "panjang = int(input(\"panjang = \"))\n",
    "lebar= int(input(\"lebar = \"))\n",
    "tinggi=int(input(\"tinggi = \"))\n",
    "\n",
    "# rumus: pxl\n",
    "def luas_pp():\n",
    "    luas = panjang * lebar \n",
    "    return luas\n",
    "#rumus = pxlxt\n",
    "def volume_balok():\n",
    "    volume = luas_pp()*tinggi\n",
    "    return volume\n",
    "print (\"Luas persegi panjang\", luas_pp())\n",
    "print (\"Volume balok\", volume_balok())\n",
    "    "
   ]
  },
  {
   "cell_type": "code",
   "execution_count": 2,
   "metadata": {},
   "outputs": [
    {
     "name": "stdout",
     "output_type": "stream",
     "text": [
      "masukan angka1 30\n",
      "masukan angka2 20\n",
      "apakah angka1 sama dengan angka2: <function sama_dengan at 0x00000210FB085820>\n",
      "apakah angka1 lebih besar dari angka2: <function lebih_besar at 0x00000210FB00A1F0>\n"
     ]
    }
   ],
   "source": [
    "#Triana Asih Wulandari\n",
    "angka1 = int(input(\"masukan angka1 \"))\n",
    "angka2 = int(input(\"masukan angka2 \"))\n",
    "\n",
    "#apakah angka1 sama dengan angka2?\n",
    "def sama_dengan():\n",
    "    angka3 = angka1 == angka2\n",
    "    #print (\"apakah angka1 sama dengan angka2:\", angka3\n",
    "    return angka3\n",
    "#apakah angka1 lebih besar dari angka2?\n",
    "def lebih_besar():\n",
    "    angka4 = angka1 > angka2\n",
    "    #print (\"apakah angka1 lebih besar dari angka2:\", angka4)\n",
    "    return angka4\n",
    "#sama_dengan()\n",
    "#lebih_besar()\n",
    "print (\"apakah angka1 sama dengan angka2:\", sama_dengan)\n",
    "print (\"apakah angka1 lebih besar dari angka2:\", lebih_besar)"
   ]
  },
  {
   "cell_type": "code",
   "execution_count": null,
   "metadata": {},
   "outputs": [],
   "source": []
  }
 ],
 "metadata": {
  "kernelspec": {
   "display_name": "Python 3",
   "language": "python",
   "name": "python3"
  },
  "language_info": {
   "codemirror_mode": {
    "name": "ipython",
    "version": 3
   },
   "file_extension": ".py",
   "mimetype": "text/x-python",
   "name": "python",
   "nbconvert_exporter": "python",
   "pygments_lexer": "ipython3",
   "version": "3.8.3"
  }
 },
 "nbformat": 4,
 "nbformat_minor": 4
}
