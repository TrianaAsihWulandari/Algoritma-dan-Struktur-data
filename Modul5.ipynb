{
 "cells": [
  {
   "cell_type": "code",
   "execution_count": 1,
   "metadata": {},
   "outputs": [
    {
     "name": "stdout",
     "output_type": "stream",
     "text": [
      "Hi, my name is Triana Asih Wulandari\n"
     ]
    }
   ],
   "source": [
    "# Membuat fungsi \n",
    "def biodata():\n",
    "    print (\"Hi, my name is Triana Asih Wulandari\")\n",
    "##pemanggil fungsi \n",
    "biodata()"
   ]
  },
  {
   "cell_type": "code",
   "execution_count": 2,
   "metadata": {},
   "outputs": [
    {
     "name": "stdout",
     "output_type": "stream",
     "text": [
      "Happy birthday and many happy returns\n"
     ]
    }
   ],
   "source": [
    "#membuat fungsi 1 parameter\n",
    "def ucapan(happybirthday):\n",
    "    print(happybirthday)\n",
    "\n",
    "##pemanggil fungsi\n",
    "ucapan(\"Happy birthday and many happy returns\")"
   ]
  },
  {
   "cell_type": "code",
   "execution_count": 3,
   "metadata": {},
   "outputs": [
    {
     "name": "stdout",
     "output_type": "stream",
     "text": [
      "Luas segitiga adalah 10.0\n",
      "Luas segitiga adalah 30.0\n",
      "Luas segitiga adalah 1.0\n"
     ]
    }
   ],
   "source": [
    "# Membuat fungsi dengan 2 parameter\n",
    "def luas_segitiga(alas,tinggi):\n",
    "    luas = (alas * tinggi) / 2\n",
    "    print (\"Luas segitiga adalah\", luas)\n",
    "\n",
    "# Pemanggilan fungsi\n",
    "luas_segitiga(5, 4)\n",
    "luas_segitiga(10, 6)\n",
    "luas_segitiga(1, 2)"
   ]
  },
  {
   "cell_type": "code",
   "execution_count": 4,
   "metadata": {},
   "outputs": [
    {
     "name": "stdout",
     "output_type": "stream",
     "text": [
      "Luas persegi 36\n",
      "volume kubus 125\n"
     ]
    }
   ],
   "source": [
    "# rumus: sisi x sisi\n",
    "def luas_persegi(sisi):\n",
    "    luas = sisi * sisi\n",
    "    return luas\n",
    "\n",
    "# rumus: sisi x sisi x sisi\n",
    "def volume_kubus(sisi):\n",
    "    volume = luas_persegi(sisi)* sisi\n",
    "    return volume\n",
    "\n",
    "print (\"Luas persegi\", luas_persegi(6))\n",
    "print (\"volume kubus\", volume_kubus(5))"
   ]
  },
  {
   "cell_type": "code",
   "execution_count": 1,
   "metadata": {},
   "outputs": [
    {
     "name": "stdout",
     "output_type": "stream",
     "text": [
      "angka pertama20\n",
      "angka kedua= 15\n",
      "apakah a sama dengan dari b: <function sama_dengan at 0x0000018CACDA5820>\n"
     ]
    }
   ],
   "source": [
    "#FUNGSI, INPUT, OPERATOR\n",
    "a = int (input(\"angka pertama\"))\n",
    "b = int (input(\"angka kedua= \"))\n",
    "\n",
    "#apakah a sama dengan b?\n",
    "def sama_dengan():\n",
    "    c = a == b\n",
    "    #print (\"apakah a sama dengan b:\", c)\n",
    "    return c\n",
    "#apakah a lebih besar dari b?\n",
    "def lebih_besar():\n",
    "    d = a > b\n",
    "    #print (\"apakah a lebih besar dari b:\", d)\n",
    "    return d\n",
    "#sama_dengan()\n",
    "#lebih_besar()\n",
    "print(\"apakah a sama dengan dari b:\", sama_dengan)"
   ]
  },
  {
   "cell_type": "code",
   "execution_count": null,
   "metadata": {},
   "outputs": [],
   "source": []
  }
 ],
 "metadata": {
  "kernelspec": {
   "display_name": "Python 3",
   "language": "python",
   "name": "python3"
  },
  "language_info": {
   "codemirror_mode": {
    "name": "ipython",
    "version": 3
   },
   "file_extension": ".py",
   "mimetype": "text/x-python",
   "name": "python",
   "nbconvert_exporter": "python",
   "pygments_lexer": "ipython3",
   "version": "3.8.3"
  }
 },
 "nbformat": 4,
 "nbformat_minor": 4
}
