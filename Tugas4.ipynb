{
 "cells": [
  {
   "cell_type": "code",
   "execution_count": 1,
   "metadata": {},
   "outputs": [
    {
     "name": "stdout",
     "output_type": "stream",
     "text": [
      "Hasil 10 + 5 = 15\n",
      "Hasil 10 - 5 = 5\n"
     ]
    }
   ],
   "source": [
    "#Triana Asih Wulandari\n",
    "#OPERATOR ARITMATIKA\n",
    "\n",
    "a = 10\n",
    "b = 5\n",
    "\n",
    "# Menggunakan operator penjumlahan\n",
    "c = a + b\n",
    "print (\"Hasil\", a, \"+\",b, \"=\", c)\n",
    "\n",
    "# Operator pengurangan\n",
    "d = a - b\n",
    "print (\"Hasil\", a, \"-\",b, \"=\", d)"
   ]
  },
  {
   "cell_type": "code",
   "execution_count": 2,
   "metadata": {},
   "outputs": [
    {
     "name": "stdout",
     "output_type": "stream",
     "text": [
      "20\n",
      "30\n"
     ]
    }
   ],
   "source": [
    "#Triana Asih Wulandari\n",
    "#OPERATOR PENUGASAN\n",
    "\n",
    "a = 20    #operator penugasan untuk nilai\n",
    "print(a)\n",
    "\n",
    "a += 10   # jumlahkan nilai a dengan operator penugasan untuk menjumlahkan\n",
    "\n",
    "# Setelah nilai a ditambah 10, tampilkan isinya\n",
    "print (a)"
   ]
  },
  {
   "cell_type": "code",
   "execution_count": 3,
   "metadata": {},
   "outputs": [
    {
     "name": "stdout",
     "output_type": "stream",
     "text": [
      "Apakah a sama dengan b: False\n",
      "Apakah a kurang dari b: False\n"
     ]
    }
   ],
   "source": [
    "#Triana Asih Wulandari\n",
    "#OPERATOR PEMBANDING\n",
    "\n",
    "a = 30\n",
    "b = 10\n",
    "\n",
    "#apakah a sama dengan b?\n",
    "c = a == b\n",
    "print (\"Apakah a sama dengan b:\", c)\n",
    "\n",
    "#apakah a kurang dari dengan b?\n",
    "d = a < b\n",
    "print (\"Apakah a kurang dari b:\", d)"
   ]
  },
  {
   "cell_type": "code",
   "execution_count": 4,
   "metadata": {},
   "outputs": [
    {
     "name": "stdout",
     "output_type": "stream",
     "text": [
      "True\n"
     ]
    }
   ],
   "source": [
    "#Triana Asih Wulandari\n",
    "#OPERATOR LOGIKA\n",
    "\n",
    "a = True\n",
    "b = False\n",
    "\n",
    "# Logika OR\n",
    "c = a or b\n",
    "print (c)"
   ]
  },
  {
   "cell_type": "code",
   "execution_count": 1,
   "metadata": {},
   "outputs": [
    {
     "name": "stdout",
     "output_type": "stream",
     "text": [
      "masukan nama bayi :bagas\n",
      "masukan berat badan bayi (KG) :5\n",
      "Berat Badannya : 10 (ons)\n",
      "hallo bagas berat badan mu adalah 10 KG atau 10 ONS ,1 bulan kemudian 40\n"
     ]
    }
   ],
   "source": [
    "#Triana Asih Wulandari\n",
    "#Inpu Output\n",
    "\n",
    "#Imput\n",
    "nama_bayi =input (\"masukan nama bayi :\")\n",
    "berat_badan =int (input (\"masukan berat badan bayi (KG) :\"))\n",
    "\n",
    "#proses\n",
    "ons = berat_badan = 10\n",
    "berat_1bulan = ons + 30\n",
    "\n",
    "#output\n",
    "print (\"Berat Badannya :\", ons, \"(ons)\")\n",
    "print (\"hallo\", nama_bayi, \"berat badan mu adalah\",berat_badan,\"KG\", \"atau\",ons,\"ONS\",\",\"\"1 bulan kemudian\",berat_1bulan)"
   ]
  },
  {
   "cell_type": "code",
   "execution_count": null,
   "metadata": {},
   "outputs": [],
   "source": []
  }
 ],
 "metadata": {
  "kernelspec": {
   "display_name": "Python 3",
   "language": "python",
   "name": "python3"
  },
  "language_info": {
   "codemirror_mode": {
    "name": "ipython",
    "version": 3
   },
   "file_extension": ".py",
   "mimetype": "text/x-python",
   "name": "python",
   "nbconvert_exporter": "python",
   "pygments_lexer": "ipython3",
   "version": "3.8.3"
  }
 },
 "nbformat": 4,
 "nbformat_minor": 4
}
