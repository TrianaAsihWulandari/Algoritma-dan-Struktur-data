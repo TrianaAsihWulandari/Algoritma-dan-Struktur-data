{
 "cells": [
  {
   "cell_type": "code",
   "execution_count": 1,
   "metadata": {},
   "outputs": [
    {
     "name": "stdout",
     "output_type": "stream",
     "text": [
      "Hasil 8 + 10 = 18\n",
      "Hasil 8 - 10 = -2\n"
     ]
    }
   ],
   "source": [
    "#OPERATOR ARITMATIKA\n",
    "\n",
    "a = 8\n",
    "b = 10\n",
    "\n",
    "# Menggunakan operator penjumlahan\n",
    "c = a + b\n",
    "print (\"Hasil\", a, \"+\",b, \"=\", c)\n",
    "\n",
    "# Operator pengurangan\n",
    "d = a - b\n",
    "print (\"Hasil\", a, \"-\",b, \"=\", d)"
   ]
  },
  {
   "cell_type": "code",
   "execution_count": 2,
   "metadata": {},
   "outputs": [
    {
     "name": "stdout",
     "output_type": "stream",
     "text": [
      "10\n",
      "15\n"
     ]
    }
   ],
   "source": [
    "#OPERATOR PENUGASAN\n",
    "\n",
    "a = 10   #contoh operator penugasan untuk mengisi nilai\n",
    "print(a)\n",
    "\n",
    "a += 5   # jumlahkan nilai a dengan operator penugasan untuk menjumlahkan\n",
    "\n",
    "# Setelah niali a ditambah 5, tampilkan isinya\n",
    "print (a)"
   ]
  },
  {
   "cell_type": "code",
   "execution_count": 3,
   "metadata": {},
   "outputs": [
    {
     "name": "stdout",
     "output_type": "stream",
     "text": [
      "Apakah a sama dengan b: False\n",
      "Apakah a lebih dari b: True\n"
     ]
    }
   ],
   "source": [
    "#OPERATOR PEMBANDING\n",
    "\n",
    "a = 10\n",
    "b = 5\n",
    "\n",
    "#apakah a sama dengan b?\n",
    "c = a == b\n",
    "print (\"Apakah a sama dengan b:\", c)\n",
    "\n",
    "#apakah a lebih dari b?\n",
    "d = a > b\n",
    "print (\"Apakah a lebih dari b:\", d)"
   ]
  },
  {
   "cell_type": "code",
   "execution_count": 4,
   "metadata": {},
   "outputs": [
    {
     "name": "stdout",
     "output_type": "stream",
     "text": [
      "False\n"
     ]
    }
   ],
   "source": [
    "#OPERATOR LOGIKA\n",
    "\n",
    "a = True\n",
    "b = False\n",
    "\n",
    "# Logika AND\n",
    "c = a and b\n",
    "print (c)"
   ]
  },
  {
   "cell_type": "code",
   "execution_count": 5,
   "metadata": {},
   "outputs": [
    {
     "name": "stdout",
     "output_type": "stream",
     "text": [
      "4\n"
     ]
    }
   ],
   "source": [
    "#OPERASI BITWISE\n",
    "\n",
    "a = 4\n",
    "b = 5\n",
    "c = a & b\n",
    "print(c)\n",
    "\n",
    "#a =      00111100\n",
    "#b =      00001101\n",
    "#a & b =  00001100"
   ]
  },
  {
   "cell_type": "code",
   "execution_count": 6,
   "metadata": {},
   "outputs": [
    {
     "name": "stdout",
     "output_type": "stream",
     "text": [
      "dewasa\n"
     ]
    }
   ],
   "source": [
    "#OPERASI TERNARY\n",
    "\n",
    "umur = 17\n",
    "aku = \"bocah\" if umur < 10 else \"dewasa\"\n",
    "print (aku)"
   ]
  },
  {
   "cell_type": "code",
   "execution_count": 7,
   "metadata": {},
   "outputs": [
    {
     "name": "stdout",
     "output_type": "stream",
     "text": [
      "Masukan nama Anda Triana Asih Wulandari\n",
      "Nama anda adalah Triana Asih Wulandari\n"
     ]
    }
   ],
   "source": [
    "#MENGAMBIL INPUT\n",
    "\n",
    "name = input (\"Masukan nama Anda \")\n",
    "print (\"Nama anda adalah\", name)\n"
   ]
  },
  {
   "cell_type": "code",
   "execution_count": 8,
   "metadata": {},
   "outputs": [
    {
     "name": "stdout",
     "output_type": "stream",
     "text": [
      "masukan nilai alas 40\n",
      "masukan nilai tinggi 30\n"
     ]
    },
    {
     "ename": "NameError",
     "evalue": "name 't' is not defined",
     "output_type": "error",
     "traceback": [
      "\u001b[1;31m---------------------------------------------------------------------------\u001b[0m",
      "\u001b[1;31mNameError\u001b[0m                                 Traceback (most recent call last)",
      "\u001b[1;32m<ipython-input-8-bd0b3a35d816>\u001b[0m in \u001b[0;36m<module>\u001b[1;34m\u001b[0m\n\u001b[0;32m      4\u001b[0m \u001b[0mb\u001b[0m \u001b[1;33m=\u001b[0m \u001b[0mint\u001b[0m\u001b[1;33m(\u001b[0m\u001b[0minput\u001b[0m\u001b[1;33m(\u001b[0m\u001b[1;34m\"masukan nilai tinggi \"\u001b[0m\u001b[1;33m)\u001b[0m\u001b[1;33m)\u001b[0m  \u001b[1;31m#int bisa diganti float\u001b[0m\u001b[1;33m\u001b[0m\u001b[1;33m\u001b[0m\u001b[0m\n\u001b[0;32m      5\u001b[0m \u001b[1;33m\u001b[0m\u001b[0m\n\u001b[1;32m----> 6\u001b[1;33m \u001b[0mL\u001b[0m \u001b[1;33m=\u001b[0m \u001b[1;36m0.5\u001b[0m\u001b[1;33m*\u001b[0m\u001b[0ma\u001b[0m\u001b[1;33m*\u001b[0m\u001b[0mt\u001b[0m\u001b[1;33m\u001b[0m\u001b[1;33m\u001b[0m\u001b[0m\n\u001b[0m\u001b[0;32m      7\u001b[0m \u001b[0mprint\u001b[0m \u001b[1;33m(\u001b[0m\u001b[1;34m\"Luas segitiga\"\u001b[0m\u001b[1;33m,\u001b[0m \u001b[0mL\u001b[0m\u001b[1;33m)\u001b[0m\u001b[1;33m\u001b[0m\u001b[1;33m\u001b[0m\u001b[0m\n",
      "\u001b[1;31mNameError\u001b[0m: name 't' is not defined"
     ]
    }
   ],
   "source": [
    "#mengambil data float/integer dari keyboard untuk variable a dan t\n",
    "\n",
    "a = int(input(\"masukan nilai alas \"))    #int bisa diganti float\n",
    "b = int(input(\"masukan nilai tinggi \"))  #int bisa diganti float\n",
    "\n",
    "L = 0.5*a*t\n",
    "print (\"Luas segitiga\", L)\n"
   ]
  },
  {
   "cell_type": "code",
   "execution_count": 9,
   "metadata": {},
   "outputs": [
    {
     "name": "stdout",
     "output_type": "stream",
     "text": [
      "Nama kamu siapa? Triana Asih Wulandari\n",
      "Berapa umur kamu? 19\n",
      "Hello Triana Asih Wulandari umur kamu 3 tahun lagi adalah 22 tahun\n"
     ]
    }
   ],
   "source": [
    "#mengambil output\n",
    "\n",
    "name = input (\"Nama kamu siapa? \")\n",
    "age = int (input(\"Berapa umur kamu? \"))\n",
    "\n",
    "age_3years= age + 3\n",
    "\n",
    "#menampilkan output\n",
    "print(\"Hello\", name, \"umur kamu 3 tahun lagi adalah\", age_3years, \"tahun\")"
   ]
  },
  {
   "cell_type": "code",
   "execution_count": 10,
   "metadata": {},
   "outputs": [
    {
     "name": "stdout",
     "output_type": "stream",
     "text": [
      "Nama kamu siapa? Triana Asih Wulandari\n",
      "Berapa umur kamu? 19\n"
     ]
    },
    {
     "ename": "TypeError",
     "evalue": "can only concatenate str (not \"int\") to str",
     "output_type": "error",
     "traceback": [
      "\u001b[1;31m---------------------------------------------------------------------------\u001b[0m",
      "\u001b[1;31mTypeError\u001b[0m                                 Traceback (most recent call last)",
      "\u001b[1;32m<ipython-input-10-946806712b4e>\u001b[0m in \u001b[0;36m<module>\u001b[1;34m\u001b[0m\n\u001b[0;32m      4\u001b[0m \u001b[0mage\u001b[0m \u001b[1;33m=\u001b[0m \u001b[0minput\u001b[0m\u001b[1;33m(\u001b[0m\u001b[1;34m\"Berapa umur kamu? \"\u001b[0m\u001b[1;33m)\u001b[0m\u001b[1;33m\u001b[0m\u001b[1;33m\u001b[0m\u001b[0m\n\u001b[0;32m      5\u001b[0m \u001b[1;33m\u001b[0m\u001b[0m\n\u001b[1;32m----> 6\u001b[1;33m \u001b[0mage_3years\u001b[0m\u001b[1;33m=\u001b[0m \u001b[0mage\u001b[0m \u001b[1;33m+\u001b[0m \u001b[1;36m3\u001b[0m\u001b[1;33m\u001b[0m\u001b[1;33m\u001b[0m\u001b[0m\n\u001b[0m\u001b[0;32m      7\u001b[0m \u001b[1;33m\u001b[0m\u001b[0m\n\u001b[0;32m      8\u001b[0m \u001b[1;31m#menampilkan output\u001b[0m\u001b[1;33m\u001b[0m\u001b[1;33m\u001b[0m\u001b[1;33m\u001b[0m\u001b[0m\n",
      "\u001b[1;31mTypeError\u001b[0m: can only concatenate str (not \"int\") to str"
     ]
    }
   ],
   "source": [
    "#mengambil input\n",
    "\n",
    "name = input (\"Nama kamu siapa? \")\n",
    "age = input(\"Berapa umur kamu? \")\n",
    "\n",
    "age_3years= age + 3\n",
    "\n",
    "#menampilkan output\n",
    "print(\"Hello\", name, \"umur kamu 3 tahun lagi adalah\", age_3years, \"tahun\")"
   ]
  },
  {
   "cell_type": "code",
   "execution_count": null,
   "metadata": {},
   "outputs": [],
   "source": []
  }
 ],
 "metadata": {
  "kernelspec": {
   "display_name": "Python 3",
   "language": "python",
   "name": "python3"
  },
  "language_info": {
   "codemirror_mode": {
    "name": "ipython",
    "version": 3
   },
   "file_extension": ".py",
   "mimetype": "text/x-python",
   "name": "python",
   "nbconvert_exporter": "python",
   "pygments_lexer": "ipython3",
   "version": "3.8.3"
  }
 },
 "nbformat": 4,
 "nbformat_minor": 4
}
