{
 "cells": [
  {
   "cell_type": "code",
   "execution_count": 1,
   "metadata": {},
   "outputs": [
    {
     "name": "stdout",
     "output_type": "stream",
     "text": [
      "saya suka algoritma dan struktur data\n"
     ]
    }
   ],
   "source": [
    "#Nama Triana Asih Wulandari\n",
    "\n",
    "print(\"saya suka algoritma dan struktur data\")"
   ]
  },
  {
   "cell_type": "code",
   "execution_count": 2,
   "metadata": {},
   "outputs": [
    {
     "name": "stdout",
     "output_type": "stream",
     "text": [
      "25\n"
     ]
    }
   ],
   "source": [
    "#Nama Triana Asih Wulandari\n",
    "\n",
    "a=10\n",
    "b=15\n",
    "c=a+b\n",
    "print (c)"
   ]
  },
  {
   "cell_type": "code",
   "execution_count": 6,
   "metadata": {},
   "outputs": [
    {
     "name": "stdout",
     "output_type": "stream",
     "text": [
      "saya Triana, IPK saya saat ini 3.57\n",
      "umur saya 19 tahun\n"
     ]
    }
   ],
   "source": [
    "#Nama Triana Asih Wulandari\n",
    "\n",
    "ipk=3.57\n",
    "umur=19\n",
    "print(\"saya Triana, IPK saya saat ini\",ipk)\n",
    "print(\"umur saya\",umur,\"tahun\")"
   ]
  },
  {
   "cell_type": "code",
   "execution_count": null,
   "metadata": {},
   "outputs": [],
   "source": []
  }
 ],
 "metadata": {
  "kernelspec": {
   "display_name": "Python 3",
   "language": "python",
   "name": "python3"
  },
  "language_info": {
   "codemirror_mode": {
    "name": "ipython",
    "version": 3
   },
   "file_extension": ".py",
   "mimetype": "text/x-python",
   "name": "python",
   "nbconvert_exporter": "python",
   "pygments_lexer": "ipython3",
   "version": "3.8.3"
  }
 },
 "nbformat": 4,
 "nbformat_minor": 4
}
