{
 "cells": [
  {
   "cell_type": "code",
   "execution_count": 5,
   "metadata": {},
   "outputs": [
    {
     "name": "stdout",
     "output_type": "stream",
     "text": [
      "Berapa nilai kamu? 65\n",
      "Kamu harus ikut remidi\n"
     ]
    }
   ],
   "source": [
    "#Triana Asih Wulandari\n",
    "nilai = int(input(\"Berapa nilai kamu? \"))\n",
    "\n",
    "if nilai < 70:\n",
    "    print(\"Kamu harus ikut remidi\")"
   ]
  },
  {
   "cell_type": "code",
   "execution_count": 10,
   "metadata": {},
   "outputs": [
    {
     "name": "stdout",
     "output_type": "stream",
     "text": [
      "masukan20\n",
      "luas 1256.0\n",
      "Lingkaran ini kecil\n"
     ]
    }
   ],
   "source": [
    "#Triana Asih Wulandari\n",
    "r = int (input (\"masukan\"))\n",
    "L = 3.14*r*r\n",
    "print (\"luas\", L)\n",
    "\n",
    "if L >=3.14:\n",
    "    print (\"Lingkaran ini kecil\")\n"
   ]
  },
  {
   "cell_type": "code",
   "execution_count": 17,
   "metadata": {},
   "outputs": [
    {
     "name": "stdout",
     "output_type": "stream",
     "text": [
      "masukan nomor program yang dipilih: 4\n",
      "Program tidak tersedia\n"
     ]
    }
   ],
   "source": [
    "#Triana Asih Wulandari\n",
    "def volume_balok():\n",
    "    p = int(input(\"masukan panjang balok: \"))\n",
    "    l = int(input(\"masukan lebar balok: \"))\n",
    "    t = int(input(\"masukan tinggi: \"))\n",
    "    V_balok = p * l * t\n",
    "    return V_balok\n",
    "\n",
    "def volume_kubus():\n",
    "    s = int(input(\"masukan sisi kubus: \"))\n",
    "    V_kubus = s*s*s\n",
    "    return V_kubus\n",
    "\n",
    "pilihan = int(input(\"masukan nomor program yang dipilih: \"))\n",
    "\n",
    "if pilihan == 1:\n",
    "    print(\"Volume balok=\",volume_balok())\n",
    "elif pilihan == 2:\n",
    "    print(\"Volume kubus= \",volume_kubus())\n",
    "else:\n",
    "    print(\"Program tidak tersedia\")\n",
    "    "
   ]
  },
  {
   "cell_type": "code",
   "execution_count": null,
   "metadata": {},
   "outputs": [],
   "source": []
  }
 ],
 "metadata": {
  "kernelspec": {
   "display_name": "Python 3",
   "language": "python",
   "name": "python3"
  },
  "language_info": {
   "codemirror_mode": {
    "name": "ipython",
    "version": 3
   },
   "file_extension": ".py",
   "mimetype": "text/x-python",
   "name": "python",
   "nbconvert_exporter": "python",
   "pygments_lexer": "ipython3",
   "version": "3.8.3"
  }
 },
 "nbformat": 4,
 "nbformat_minor": 4
}
